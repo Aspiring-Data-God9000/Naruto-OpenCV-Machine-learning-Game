{
 "cells": [
  {
   "cell_type": "markdown",
   "metadata": {},
   "source": [
    "# 0. Setup Paths"
   ]
  },
  {
   "cell_type": "code",
   "execution_count": 1,
   "metadata": {},
   "outputs": [],
   "source": [
    "WORKSPACE_PATH = 'Tensorflow/workspace'\n",
    "SCRIPTS_PATH = 'Tensorflow/scripts'\n",
    "APIMODEL_PATH = 'Tensorflow/models'\n",
    "ANNOTATION_PATH = WORKSPACE_PATH+'/annotations'\n",
    "IMAGE_PATH = WORKSPACE_PATH+'/images'\n",
    "MODEL_PATH = WORKSPACE_PATH+'/models'\n",
    "PRETRAINED_MODEL_PATH = WORKSPACE_PATH+'/pre-trained-models'\n",
    "CONFIG_PATH = MODEL_PATH+'/my_ssd_mobnet/pipeline.config'\n",
    "CHECKPOINT_PATH = MODEL_PATH+'/my_ssd_mobnet/'"
   ]
  },
  {
   "cell_type": "markdown",
   "metadata": {},
   "source": [
    "# 1. Create Label Map"
   ]
  },
  {
   "cell_type": "code",
   "execution_count": 2,
   "metadata": {},
   "outputs": [],
   "source": [
    "labels = [{'name':'Bird', 'id':1},\n",
    "          {'name':'Boar', 'id':2},\n",
    "          {'name':'Dog', 'id':3},\n",
    "          {'name':'Dragon', 'id':4},\n",
    "          {'name':'Hare', 'id':5},\n",
    "          {'name':'Horse', 'id':6},\n",
    "          {'name':'Monkey', 'id':7},\n",
    "          {'name':'Ox', 'id':8},\n",
    "          {'name':'Ram', 'id':9},\n",
    "          {'name':'Rat', 'id':10},\n",
    "          {'name':'Serpent', 'id':11},\n",
    "          {'name':'Tiger', 'id':12}]\n",
    "\n",
    "with open(ANNOTATION_PATH + '\\label_map.pbtxt', 'w') as f:\n",
    "    for label in labels:\n",
    "        f.write('item { \\n')\n",
    "        f.write('\\tname:\\'{}\\'\\n'.format(label['name']))\n",
    "        f.write('\\tid:{}\\n'.format(label['id']))\n",
    "        f.write('}\\n')"
   ]
  },
  {
   "cell_type": "markdown",
   "metadata": {},
   "source": [
    "# 2. Create TF records"
   ]
  },
  {
   "cell_type": "code",
   "execution_count": 3,
   "metadata": {},
   "outputs": [
    {
     "name": "stdout",
     "output_type": "stream",
     "text": [
      "Successfully created the TFRecord file: Tensorflow/workspace/annotations/train.record\n",
      "Successfully created the TFRecord file: Tensorflow/workspace/annotations/test.record\n"
     ]
    }
   ],
   "source": [
    "!python {SCRIPTS_PATH + '/generate_tfrecord.py'} -x {IMAGE_PATH + '/train'} -l {ANNOTATION_PATH + '/label_map.pbtxt'} -o {ANNOTATION_PATH + '/train.record'}\n",
    "!python {SCRIPTS_PATH + '/generate_tfrecord.py'} -x{IMAGE_PATH + '/test'} -l {ANNOTATION_PATH + '/label_map.pbtxt'} -o {ANNOTATION_PATH + '/test.record'}"
   ]
  },
  {
   "cell_type": "markdown",
   "metadata": {},
   "source": [
    "# 3. Download TF Models Pretrained Models from Tensorflow Model Zoo"
   ]
  },
  {
   "cell_type": "code",
   "execution_count": 4,
   "metadata": {},
   "outputs": [
    {
     "name": "stderr",
     "output_type": "stream",
     "text": [
      "fatal: destination path 'models' already exists and is not an empty directory.\n"
     ]
    }
   ],
   "source": [
    "!cd Tensorflow && git clone https://github.com/tensorflow/models"
   ]
  },
  {
   "cell_type": "markdown",
   "metadata": {},
   "source": [
    "# 4. Copy Model Config to Training Folder"
   ]
  },
  {
   "cell_type": "code",
   "execution_count": 2,
   "metadata": {},
   "outputs": [],
   "source": [
    "CUSTOM_MODEL_NAME = 'my_ssd_mobnet' "
   ]
  },
  {
   "cell_type": "code",
   "execution_count": 9,
   "metadata": {},
   "outputs": [
    {
     "name": "stdout",
     "output_type": "stream",
     "text": [
      "The system cannot find the file specified.\n"
     ]
    }
   ],
   "source": [
    "!mkdir {'Tensorflow\\workspace\\models\\\\'+CUSTOM_MODEL_NAME}\n",
    "!copy {PRETRAINED_MODEL_PATH+'\\ssd_mobilenet_v2_fpnlite_320x320_coco17_tpu-8\\\\pipeline.config'} {MODEL_PATH+'/'+CUSTOM_MODEL_NAME}"
   ]
  },
  {
   "cell_type": "markdown",
   "metadata": {},
   "source": [
    "# 5. Update Config For Transfer Learning"
   ]
  },
  {
   "cell_type": "code",
   "execution_count": 5,
   "metadata": {},
   "outputs": [],
   "source": [
    "import tensorflow as tf\n",
    "from object_detection.utils import config_util\n",
    "from object_detection.protos import pipeline_pb2\n",
    "from google.protobuf import text_format"
   ]
  },
  {
   "cell_type": "code",
   "execution_count": 3,
   "metadata": {},
   "outputs": [],
   "source": [
    "CONFIG_PATH = MODEL_PATH+'/'+CUSTOM_MODEL_NAME+'/pipeline.config'"
   ]
  },
  {
   "cell_type": "code",
   "execution_count": 6,
   "metadata": {},
   "outputs": [],
   "source": [
    "config = config_util.get_configs_from_pipeline_file(CONFIG_PATH)"
   ]
  },
  {
   "cell_type": "code",
   "execution_count": 11,
   "metadata": {},
   "outputs": [
    {
     "data": {
      "text/plain": [
       "{'model': ssd {\n",
       "   num_classes: 12\n",
       "   image_resizer {\n",
       "     fixed_shape_resizer {\n",
       "       height: 320\n",
       "       width: 320\n",
       "     }\n",
       "   }\n",
       "   feature_extractor {\n",
       "     type: \"ssd_mobilenet_v2_fpn_keras\"\n",
       "     depth_multiplier: 1.0\n",
       "     min_depth: 16\n",
       "     conv_hyperparams {\n",
       "       regularizer {\n",
       "         l2_regularizer {\n",
       "           weight: 4e-05\n",
       "         }\n",
       "       }\n",
       "       initializer {\n",
       "         random_normal_initializer {\n",
       "           mean: 0.0\n",
       "           stddev: 0.01\n",
       "         }\n",
       "       }\n",
       "       activation: RELU_6\n",
       "       batch_norm {\n",
       "         decay: 0.997\n",
       "         scale: true\n",
       "         epsilon: 0.001\n",
       "       }\n",
       "     }\n",
       "     use_depthwise: true\n",
       "     override_base_feature_extractor_hyperparams: true\n",
       "     fpn {\n",
       "       min_level: 3\n",
       "       max_level: 7\n",
       "       additional_layer_depth: 128\n",
       "     }\n",
       "   }\n",
       "   box_coder {\n",
       "     faster_rcnn_box_coder {\n",
       "       y_scale: 10.0\n",
       "       x_scale: 10.0\n",
       "       height_scale: 5.0\n",
       "       width_scale: 5.0\n",
       "     }\n",
       "   }\n",
       "   matcher {\n",
       "     argmax_matcher {\n",
       "       matched_threshold: 0.5\n",
       "       unmatched_threshold: 0.5\n",
       "       ignore_thresholds: false\n",
       "       negatives_lower_than_unmatched: true\n",
       "       force_match_for_each_row: true\n",
       "       use_matmul_gather: true\n",
       "     }\n",
       "   }\n",
       "   similarity_calculator {\n",
       "     iou_similarity {\n",
       "     }\n",
       "   }\n",
       "   box_predictor {\n",
       "     weight_shared_convolutional_box_predictor {\n",
       "       conv_hyperparams {\n",
       "         regularizer {\n",
       "           l2_regularizer {\n",
       "             weight: 4e-05\n",
       "           }\n",
       "         }\n",
       "         initializer {\n",
       "           random_normal_initializer {\n",
       "             mean: 0.0\n",
       "             stddev: 0.01\n",
       "           }\n",
       "         }\n",
       "         activation: RELU_6\n",
       "         batch_norm {\n",
       "           decay: 0.997\n",
       "           scale: true\n",
       "           epsilon: 0.001\n",
       "         }\n",
       "       }\n",
       "       depth: 128\n",
       "       num_layers_before_predictor: 4\n",
       "       kernel_size: 3\n",
       "       class_prediction_bias_init: -4.6\n",
       "       share_prediction_tower: true\n",
       "       use_depthwise: true\n",
       "     }\n",
       "   }\n",
       "   anchor_generator {\n",
       "     multiscale_anchor_generator {\n",
       "       min_level: 3\n",
       "       max_level: 7\n",
       "       anchor_scale: 4.0\n",
       "       aspect_ratios: 1.0\n",
       "       aspect_ratios: 2.0\n",
       "       aspect_ratios: 0.5\n",
       "       scales_per_octave: 2\n",
       "     }\n",
       "   }\n",
       "   post_processing {\n",
       "     batch_non_max_suppression {\n",
       "       score_threshold: 1e-08\n",
       "       iou_threshold: 0.6\n",
       "       max_detections_per_class: 100\n",
       "       max_total_detections: 100\n",
       "       use_static_shapes: false\n",
       "     }\n",
       "     score_converter: SIGMOID\n",
       "   }\n",
       "   normalize_loss_by_num_matches: true\n",
       "   loss {\n",
       "     localization_loss {\n",
       "       weighted_smooth_l1 {\n",
       "       }\n",
       "     }\n",
       "     classification_loss {\n",
       "       weighted_sigmoid_focal {\n",
       "         gamma: 2.0\n",
       "         alpha: 0.25\n",
       "       }\n",
       "     }\n",
       "     classification_weight: 1.0\n",
       "     localization_weight: 1.0\n",
       "   }\n",
       "   encode_background_as_zeros: true\n",
       "   normalize_loc_loss_by_codesize: true\n",
       "   inplace_batchnorm_update: true\n",
       "   freeze_batchnorm: false\n",
       " },\n",
       " 'train_config': batch_size: 4\n",
       " data_augmentation_options {\n",
       "   random_horizontal_flip {\n",
       "   }\n",
       " }\n",
       " data_augmentation_options {\n",
       "   random_crop_image {\n",
       "     min_object_covered: 0.0\n",
       "     min_aspect_ratio: 0.75\n",
       "     max_aspect_ratio: 3.0\n",
       "     min_area: 0.75\n",
       "     max_area: 1.0\n",
       "     overlap_thresh: 0.0\n",
       "   }\n",
       " }\n",
       " sync_replicas: true\n",
       " optimizer {\n",
       "   momentum_optimizer {\n",
       "     learning_rate {\n",
       "       cosine_decay_learning_rate {\n",
       "         learning_rate_base: 0.08\n",
       "         total_steps: 50000\n",
       "         warmup_learning_rate: 0.026666\n",
       "         warmup_steps: 1000\n",
       "       }\n",
       "     }\n",
       "     momentum_optimizer_value: 0.9\n",
       "   }\n",
       "   use_moving_average: false\n",
       " }\n",
       " fine_tune_checkpoint: \"Tensorflow/workspace/pre-trained-models/ssd_mobilenet_v2_fpnlite_320x320_coco17_tpu-8/checkpoint/ckpt-0\"\n",
       " num_steps: 50000\n",
       " startup_delay_steps: 0.0\n",
       " replicas_to_aggregate: 8\n",
       " max_number_of_boxes: 100\n",
       " unpad_groundtruth_tensors: false\n",
       " fine_tune_checkpoint_type: \"detection\"\n",
       " fine_tune_checkpoint_version: V2,\n",
       " 'train_input_config': label_map_path: \"Tensorflow/workspace/annotations/label_map.pbtxt\"\n",
       " tf_record_input_reader {\n",
       "   input_path: \"Tensorflow/workspace/annotations/train.record\"\n",
       " },\n",
       " 'eval_config': metrics_set: \"coco_detection_metrics\"\n",
       " use_moving_averages: false,\n",
       " 'eval_input_configs': [label_map_path: \"Tensorflow/workspace/annotations/label_map.pbtxt\"\n",
       " shuffle: false\n",
       " num_epochs: 1\n",
       " tf_record_input_reader {\n",
       "   input_path: \"Tensorflow/workspace/annotations/test.record\"\n",
       " }\n",
       " ],\n",
       " 'eval_input_config': label_map_path: \"Tensorflow/workspace/annotations/label_map.pbtxt\"\n",
       " shuffle: false\n",
       " num_epochs: 1\n",
       " tf_record_input_reader {\n",
       "   input_path: \"Tensorflow/workspace/annotations/test.record\"\n",
       " }}"
      ]
     },
     "execution_count": 11,
     "metadata": {},
     "output_type": "execute_result"
    }
   ],
   "source": [
    "config"
   ]
  },
  {
   "cell_type": "code",
   "execution_count": 15,
   "metadata": {},
   "outputs": [],
   "source": [
    "pipeline_config = pipeline_pb2.TrainEvalPipelineConfig()\n",
    "with tf.io.gfile.GFile(CONFIG_PATH, \"r\") as f:                                                                                                                                                                                                                     \n",
    "    proto_str = f.read()                                                                                                                                                                                                                                          \n",
    "    text_format.Merge(proto_str, pipeline_config)  "
   ]
  },
  {
   "cell_type": "code",
   "execution_count": 13,
   "metadata": {},
   "outputs": [],
   "source": [
    "pipeline_config.model.ssd.num_classes = 12\n",
    "pipeline_config.train_config.batch_size = 4\n",
    "pipeline_config.train_config.fine_tune_checkpoint = PRETRAINED_MODEL_PATH+'/ssd_mobilenet_v2_fpnlite_320x320_coco17_tpu-8/checkpoint/ckpt-0'\n",
    "pipeline_config.train_config.fine_tune_checkpoint_type = \"detection\"\n",
    "pipeline_config.train_input_reader.label_map_path= ANNOTATION_PATH + '/label_map.pbtxt'\n",
    "pipeline_config.train_input_reader.tf_record_input_reader.input_path[:] = [ANNOTATION_PATH + '/train.record']\n",
    "pipeline_config.eval_input_reader[0].label_map_path = ANNOTATION_PATH + '/label_map.pbtxt'\n",
    "pipeline_config.eval_input_reader[0].tf_record_input_reader.input_path[:] = [ANNOTATION_PATH + '/test.record']"
   ]
  },
  {
   "cell_type": "code",
   "execution_count": 14,
   "metadata": {},
   "outputs": [],
   "source": [
    "config_text = text_format.MessageToString(pipeline_config)                                                                                                                                                                                                        \n",
    "with tf.io.gfile.GFile(CONFIG_PATH, \"wb\") as f:                                                                                                                                                                                                                     \n",
    "    f.write(config_text)   "
   ]
  },
  {
   "cell_type": "markdown",
   "metadata": {},
   "source": [
    "# 6. Train the model"
   ]
  },
  {
   "cell_type": "code",
   "execution_count": 15,
   "metadata": {
    "scrolled": true
   },
   "outputs": [
    {
     "name": "stdout",
     "output_type": "stream",
     "text": [
      "python Tensorflow/models/research/object_detection/model_main_tf2.py --model_dir=Tensorflow/workspace/models/my_ssd_mobnet --pipeline_config_path=Tensorflow/workspace/models/my_ssd_mobnet/pipeline.config --num_train_steps=10000\n"
     ]
    }
   ],
   "source": [
    "print(\"\"\"python {}/research/object_detection/model_main_tf2.py --model_dir={}/{} --pipeline_config_path={}/{}/pipeline.config --num_train_steps=10000\"\"\".format(APIMODEL_PATH, MODEL_PATH,CUSTOM_MODEL_NAME,MODEL_PATH,CUSTOM_MODEL_NAME))"
   ]
  },
  {
   "cell_type": "markdown",
   "metadata": {},
   "source": [
    "# 7. Load Train Model From Checkpoint"
   ]
  },
  {
   "cell_type": "code",
   "execution_count": 7,
   "metadata": {},
   "outputs": [],
   "source": [
    "import os\n",
    "from object_detection.utils import label_map_util\n",
    "from object_detection.utils import visualization_utils as viz_utils\n",
    "from object_detection.builders import model_builder"
   ]
  },
  {
   "cell_type": "code",
   "execution_count": 8,
   "metadata": {},
   "outputs": [],
   "source": [
    "# Load pipeline config and build a detection model\n",
    "configs = config_util.get_configs_from_pipeline_file(CONFIG_PATH)\n",
    "detection_model = model_builder.build(model_config=configs['model'], is_training=False)\n",
    "\n",
    "# Restore checkpoint\n",
    "ckpt = tf.compat.v2.train.Checkpoint(model=detection_model)\n",
    "ckpt.restore(os.path.join(CHECKPOINT_PATH, 'ckpt-11')).expect_partial()\n",
    "\n",
    "@tf.function\n",
    "def detect_fn(image):\n",
    "    image, shapes = detection_model.preprocess(image)\n",
    "    prediction_dict = detection_model.predict(image, shapes)\n",
    "    detections = detection_model.postprocess(prediction_dict, shapes)\n",
    "    return detections"
   ]
  },
  {
   "cell_type": "markdown",
   "metadata": {},
   "source": [
    "# 8. Detect in Real-Time"
   ]
  },
  {
   "cell_type": "code",
   "execution_count": 9,
   "metadata": {},
   "outputs": [],
   "source": [
    "import cv2 \n",
    "import numpy as np"
   ]
  },
  {
   "cell_type": "code",
   "execution_count": 10,
   "metadata": {},
   "outputs": [],
   "source": [
    "category_index = label_map_util.create_category_index_from_labelmap(ANNOTATION_PATH+'/label_map.pbtxt')"
   ]
  },
  {
   "cell_type": "code",
   "execution_count": 11,
   "metadata": {},
   "outputs": [],
   "source": [
    "# Setup capture\n",
    "cap = cv2.VideoCapture(0)\n",
    "width = int(cap.get(cv2.CAP_PROP_FRAME_WIDTH))\n",
    "height = int(cap.get(cv2.CAP_PROP_FRAME_HEIGHT))"
   ]
  },
  {
   "cell_type": "code",
   "execution_count": 12,
   "metadata": {},
   "outputs": [],
   "source": [
    "while True: \n",
    "    ret, frame = cap.read()\n",
    "    image_np = np.array(frame)\n",
    "    \n",
    "    input_tensor = tf.convert_to_tensor(np.expand_dims(image_np, 0), dtype=tf.float32)\n",
    "    detections = detect_fn(input_tensor)\n",
    "    \n",
    "    num_detections = int(detections.pop('num_detections'))\n",
    "    detections = {key: value[0, :num_detections].numpy()\n",
    "                  for key, value in detections.items()}\n",
    "    detections['num_detections'] = num_detections\n",
    "\n",
    "    # detection_classes should be ints.\n",
    "    detections['detection_classes'] = detections['detection_classes'].astype(np.int64)\n",
    "\n",
    "    label_id_offset = 1\n",
    "    image_np_with_detections = image_np.copy()\n",
    "\n",
    "    viz_utils.visualize_boxes_and_labels_on_image_array(\n",
    "                image_np_with_detections,\n",
    "                detections['detection_boxes'],\n",
    "                detections['detection_classes']+label_id_offset,\n",
    "                detections['detection_scores'],\n",
    "                category_index,\n",
    "                use_normalized_coordinates=True,\n",
    "                max_boxes_to_draw=5,\n",
    "                min_score_thresh=.5,\n",
    "                agnostic_mode=False)\n",
    "\n",
    "    cv2.imshow('object detection',  cv2.resize(image_np_with_detections, (800, 600)))\n",
    "    \n",
    "    if cv2.waitKey(1) & 0xFF == ord('q'):\n",
    "        cap.release()\n",
    "        break"
   ]
  },
  {
   "cell_type": "code",
   "execution_count": 23,
   "metadata": {},
   "outputs": [],
   "source": [
    "detections = detect_fn(input_tensor)"
   ]
  },
  {
   "cell_type": "code",
   "execution_count": 24,
   "metadata": {},
   "outputs": [
    {
     "data": {
      "text/plain": [
       "{'detection_boxes': <tf.Tensor: shape=(1, 100, 4), dtype=float32, numpy=\n",
       " array([[[0.        , 0.        , 0.7600119 , 1.        ],\n",
       "         [0.4827709 , 0.5721719 , 0.9984907 , 0.9248229 ],\n",
       "         [0.5037884 , 0.59090626, 0.99758404, 0.8859489 ],\n",
       "         [0.        , 0.        , 0.7600119 , 1.        ],\n",
       "         [0.5718615 , 0.        , 0.99483013, 0.26113364],\n",
       "         [0.        , 0.        , 0.7600119 , 1.        ],\n",
       "         [0.        , 0.        , 0.7600119 , 1.        ],\n",
       "         [0.5636514 , 0.        , 0.9906334 , 0.24870223],\n",
       "         [0.        , 0.4510088 , 0.40271598, 1.        ],\n",
       "         [0.5037884 , 0.59090626, 0.99758404, 0.8859489 ],\n",
       "         [0.        , 0.        , 0.7600119 , 1.        ],\n",
       "         [0.        , 0.        , 0.7600119 , 1.        ],\n",
       "         [0.44149733, 0.5383341 , 0.950969  , 0.83242947],\n",
       "         [0.        , 0.32406393, 0.4436948 , 0.9395838 ],\n",
       "         [0.636305  , 0.59050566, 0.98184896, 0.9592207 ],\n",
       "         [0.        , 0.        , 0.7600119 , 1.        ],\n",
       "         [0.        , 0.23313913, 0.50645405, 0.7769581 ],\n",
       "         [0.6111327 , 0.6337225 , 0.9441013 , 0.847573  ],\n",
       "         [0.7698918 , 0.5499371 , 0.91444165, 0.65106213],\n",
       "         [0.66709256, 0.        , 0.98135173, 0.30601865],\n",
       "         [0.23945773, 0.76289034, 0.482571  , 0.9437858 ],\n",
       "         [0.45313632, 0.16648407, 0.8859612 , 0.47605848],\n",
       "         [0.28047097, 0.7025063 , 0.5758036 , 0.8430686 ],\n",
       "         [0.68028957, 0.25080556, 0.9103053 , 0.5125374 ],\n",
       "         [0.        , 0.        , 1.        , 1.        ],\n",
       "         [0.        , 0.28091764, 0.47985625, 0.7317426 ],\n",
       "         [0.        , 0.        , 0.7600119 , 1.        ],\n",
       "         [0.24080962, 0.02216733, 0.4803561 , 0.19083485],\n",
       "         [0.7101049 , 0.09484212, 0.9706479 , 0.3616292 ],\n",
       "         [0.        , 0.20893688, 0.45288563, 0.6995547 ],\n",
       "         [0.2446543 , 0.12394939, 0.47402096, 0.31481045],\n",
       "         [0.32672024, 0.6049707 , 0.9329461 , 1.        ],\n",
       "         [0.20231357, 0.7210386 , 0.43387607, 0.90013564],\n",
       "         [0.        , 0.4510088 , 0.40271598, 1.        ],\n",
       "         [0.        , 0.6237105 , 0.36499798, 1.        ],\n",
       "         [0.48628893, 0.56386554, 0.99148226, 0.926069  ],\n",
       "         [0.620558  , 0.03310828, 0.9660218 , 0.1317091 ],\n",
       "         [0.        , 0.        , 1.        , 1.        ],\n",
       "         [0.35563108, 0.7506671 , 0.5817313 , 0.9555999 ],\n",
       "         [0.20069325, 0.6720411 , 0.43517917, 0.8461167 ],\n",
       "         [0.24248862, 0.07909648, 0.47940272, 0.25686407],\n",
       "         [0.        , 0.7048858 , 0.26299912, 1.        ],\n",
       "         [0.        , 0.        , 1.        , 1.        ],\n",
       "         [0.48808274, 0.5865696 , 0.99267304, 0.8718433 ],\n",
       "         [0.7056721 , 0.65103585, 0.94870776, 0.8879439 ],\n",
       "         [0.        , 0.        , 1.        , 1.        ],\n",
       "         [0.49365515, 0.47956845, 0.9761724 , 0.9879668 ],\n",
       "         [0.        , 0.09688348, 0.6236219 , 1.        ],\n",
       "         [0.68486524, 0.        , 0.9369776 , 0.2160258 ],\n",
       "         [0.5645222 , 0.6083925 , 0.9202481 , 0.8034407 ],\n",
       "         [0.        , 0.7048858 , 0.26299912, 1.        ],\n",
       "         [0.7310374 , 0.18051592, 0.9630593 , 0.42338434],\n",
       "         [0.        , 0.        , 1.        , 1.        ],\n",
       "         [0.5636514 , 0.        , 0.9906334 , 0.24870223],\n",
       "         [0.7483585 , 0.2472708 , 0.95828986, 0.49228135],\n",
       "         [0.        , 0.32406393, 0.4436948 , 0.9395838 ],\n",
       "         [0.        , 0.        , 0.8374803 , 1.        ],\n",
       "         [0.        , 0.        , 1.        , 1.        ],\n",
       "         [0.69517714, 0.28654185, 0.91097337, 0.5536573 ],\n",
       "         [0.        , 0.7310008 , 0.28944993, 1.        ],\n",
       "         [0.        , 0.        , 0.96524704, 0.84785295],\n",
       "         [0.68199855, 0.7098583 , 0.9822878 , 1.        ],\n",
       "         [0.        , 0.        , 1.        , 1.        ],\n",
       "         [0.6120962 , 0.        , 1.        , 0.3137291 ],\n",
       "         [0.19459032, 0.11427221, 0.43911672, 0.29095045],\n",
       "         [0.        , 0.6237105 , 0.36499798, 1.        ],\n",
       "         [0.59087425, 0.48135787, 0.9848508 , 0.887193  ],\n",
       "         [0.7721963 , 0.64974   , 0.97806144, 0.9213877 ],\n",
       "         [0.66313267, 0.20233998, 0.92534673, 0.43766025],\n",
       "         [0.64549625, 0.06642441, 0.95932686, 0.14725739],\n",
       "         [0.2928104 , 0.63994116, 0.5797355 , 0.8006764 ],\n",
       "         [0.36005634, 0.5527746 , 0.9921681 , 0.96123224],\n",
       "         [0.50294495, 0.26975688, 0.79056716, 0.49015638],\n",
       "         [0.59126693, 0.6227821 , 0.9225709 , 0.8363497 ],\n",
       "         [0.        , 0.        , 0.9217757 , 0.89014053],\n",
       "         [0.58342165, 0.596484  , 1.        , 1.        ],\n",
       "         [0.        , 0.4343699 , 0.45390886, 1.        ],\n",
       "         [0.7721963 , 0.64974   , 0.97806144, 0.9213877 ],\n",
       "         [0.63479745, 0.        , 0.993749  , 0.28694043],\n",
       "         [0.15368086, 0.72555137, 0.3774814 , 0.9333403 ],\n",
       "         [0.        , 0.6961893 , 0.2527296 , 1.        ],\n",
       "         [0.27170867, 0.7507718 , 0.56532305, 0.88258475],\n",
       "         [0.37808654, 0.29093158, 0.78344417, 0.5719158 ],\n",
       "         [0.03009251, 0.6289213 , 0.5861385 , 1.        ],\n",
       "         [0.01057708, 0.59635633, 0.5252096 , 1.        ],\n",
       "         [0.77383876, 0.08282888, 0.9539372 , 0.13523561],\n",
       "         [0.62420636, 0.01277211, 1.        , 0.4223434 ],\n",
       "         [0.10230944, 0.        , 0.34069273, 0.15732095],\n",
       "         [0.4315333 , 0.47128087, 0.55207825, 0.5604659 ],\n",
       "         [0.73945963, 0.08200533, 0.9407481 , 0.1313603 ],\n",
       "         [0.19951567, 0.6202837 , 0.4292412 , 0.80380905],\n",
       "         [0.68977374, 0.01149803, 0.9472949 , 0.10736537],\n",
       "         [0.1727038 , 0.8579774 , 0.45070517, 1.        ],\n",
       "         [0.        , 0.        , 1.        , 1.        ],\n",
       "         [0.7186868 , 0.05194756, 0.91849184, 0.11682424],\n",
       "         [0.        , 0.64300466, 0.35845333, 1.        ],\n",
       "         [0.62605196, 0.02803409, 0.9617873 , 0.13044418],\n",
       "         [0.8468344 , 0.82782143, 0.955603  , 0.9091676 ],\n",
       "         [0.        , 0.        , 1.        , 1.        ],\n",
       "         [0.6935228 , 0.37028477, 0.7956549 , 0.48590282]]], dtype=float32)>,\n",
       " 'detection_scores': <tf.Tensor: shape=(1, 100), dtype=float32, numpy=\n",
       " array([[0.387605  , 0.27745453, 0.09002896, 0.06933169, 0.06710888,\n",
       "         0.06612752, 0.05685406, 0.04899037, 0.04120374, 0.03596767,\n",
       "         0.03452592, 0.03353027, 0.03337818, 0.03224068, 0.02994437,\n",
       "         0.02797893, 0.02594711, 0.02280789, 0.02259446, 0.02125988,\n",
       "         0.02047884, 0.02010002, 0.01923183, 0.01878661, 0.01731997,\n",
       "         0.01718961, 0.01677994, 0.01665993, 0.01665278, 0.01603124,\n",
       "         0.01601528, 0.01586757, 0.01552212, 0.01522007, 0.01475301,\n",
       "         0.01446987, 0.01443567, 0.01436841, 0.01424803, 0.0138935 ,\n",
       "         0.0138296 , 0.01381363, 0.01378266, 0.01368069, 0.01365117,\n",
       "         0.01347816, 0.0133324 , 0.01331596, 0.01327617, 0.01311516,\n",
       "         0.01309633, 0.01306465, 0.01296908, 0.01294246, 0.01263878,\n",
       "         0.01261092, 0.01254001, 0.01239453, 0.01222676, 0.01219249,\n",
       "         0.01203614, 0.01192346, 0.01176988, 0.01175262, 0.01172527,\n",
       "         0.01152511, 0.01141592, 0.01115481, 0.01115162, 0.01114711,\n",
       "         0.01100664, 0.01083737, 0.01080387, 0.01077168, 0.01059397,\n",
       "         0.0104297 , 0.0104285 , 0.01039424, 0.01036354, 0.01034945,\n",
       "         0.01034812, 0.01019709, 0.01014252, 0.01011372, 0.01006543,\n",
       "         0.00995317, 0.00992636, 0.00992569, 0.0099189 , 0.0099129 ,\n",
       "         0.00980863, 0.00977197, 0.00977015, 0.00973168, 0.00972327,\n",
       "         0.00966416, 0.00964682, 0.00963267, 0.00958235, 0.00952622]],\n",
       "       dtype=float32)>,\n",
       " 'detection_classes': <tf.Tensor: shape=(1, 100), dtype=float32, numpy=\n",
       " array([[ 5.,  0., 11., 10.,  0.,  7.,  2., 11.,  6.,  7.,  6.,  0.,  0.,\n",
       "          6.,  0.,  3.,  6.,  0., 10.,  0.,  0., 10.,  8.,  0.,  3., 10.,\n",
       "          4.,  0.,  0.,  5.,  0.,  1.,  0.,  7.,  7.,  8., 11., 10.,  0.,\n",
       "          0.,  0.,  6.,  7.,  5.,  0.,  6.,  9.,  7.,  0.,  0.,  7.,  0.,\n",
       "          7.,  7.,  0.,  7.,  8.,  4.,  2., 10.,  2.,  0.,  4.,  3.,  0.,\n",
       "         10.,  0.,  0.,  0., 11.,  8., 11.,  7., 11.,  8.,  3.,  3.,  3.,\n",
       "          1.,  0.,  3.,  8., 10.,  5.,  6.,  0.,  3.,  0.,  0., 11.,  0.,\n",
       "          0.,  0.,  2., 11.,  3.,  0.,  0.,  0.,  7.]], dtype=float32)>,\n",
       " 'num_detections': <tf.Tensor: shape=(1,), dtype=float32, numpy=array([100.], dtype=float32)>,\n",
       " 'raw_detection_boxes': <tf.Tensor: shape=(1, 12804, 4), dtype=float32, numpy=\n",
       " array([[[-0.03866238, -0.02332909,  0.10405102,  0.0534059 ],\n",
       "         [-0.04329351, -0.03017561,  0.11734709,  0.06291386],\n",
       "         [-0.03153308, -0.03177827,  0.08469281,  0.06395961],\n",
       "         ...,\n",
       "         [-0.45928383, -0.50794905,  1.6471043 ,  2.006873  ],\n",
       "         [-0.51731074, -0.08288878,  1.7334145 ,  1.5589325 ],\n",
       "         [-0.6745453 , -0.19201481,  1.8312116 ,  1.6715585 ]]],\n",
       "       dtype=float32)>,\n",
       " 'raw_detection_scores': <tf.Tensor: shape=(1, 12804, 13), dtype=float32, numpy=\n",
       " array([[[1.2012172e-03, 5.4110740e-03, 5.3559366e-04, ...,\n",
       "          1.3740992e-04, 3.1270252e-03, 9.3951187e-04],\n",
       "         [1.0595204e-03, 1.4310578e-03, 7.7173254e-04, ...,\n",
       "          1.2243277e-03, 1.4041784e-05, 1.1673622e-03],\n",
       "         [7.4391306e-04, 2.6506972e-03, 3.9369435e-04, ...,\n",
       "          9.5552072e-04, 1.8339910e-03, 1.1624453e-03],\n",
       "         ...,\n",
       "         [2.9343476e-03, 3.0559232e-03, 2.9171493e-03, ...,\n",
       "          2.4586518e-03, 3.1164526e-03, 4.9688658e-03],\n",
       "         [5.5116098e-03, 2.8744966e-03, 1.1685805e-03, ...,\n",
       "          2.2171070e-03, 2.0982351e-03, 1.1234072e-03],\n",
       "         [2.2523059e-03, 3.0539513e-03, 1.2791235e-03, ...,\n",
       "          1.4660676e-03, 3.2111241e-03, 1.2505667e-03]]], dtype=float32)>,\n",
       " 'detection_multiclass_scores': <tf.Tensor: shape=(1, 100, 13), dtype=float32, numpy=\n",
       " array([[[4.2186637e-04, 3.3530273e-02, 4.5563946e-03, ...,\n",
       "          2.0489527e-03, 6.9331691e-02, 1.4340716e-03],\n",
       "         [1.9834558e-03, 2.7745453e-01, 2.4896814e-03, ...,\n",
       "          5.9137063e-04, 1.0698314e-03, 2.0112980e-03],\n",
       "         [2.6312850e-03, 5.3036600e-02, 7.0419358e-03, ...,\n",
       "          2.5623436e-03, 2.4648817e-04, 9.0028964e-02],\n",
       "         ...,\n",
       "         [1.5395861e-03, 9.6326694e-03, 1.0200363e-04, ...,\n",
       "          1.6932499e-04, 1.7969221e-03, 4.1090086e-04],\n",
       "         [4.2964132e-03, 9.5823528e-03, 2.1657911e-03, ...,\n",
       "          2.3795518e-03, 2.8519635e-03, 3.6484024e-03],\n",
       "         [5.6082627e-04, 6.5252080e-04, 6.4432522e-04, ...,\n",
       "          2.4861429e-04, 4.6231132e-03, 7.1165786e-04]]], dtype=float32)>,\n",
       " 'detection_anchor_indices': <tf.Tensor: shape=(1, 100), dtype=int32, numpy=\n",
       " array([[12645, 12466, 11489, 12645, 11533, 12645, 12645, 11417, 12105,\n",
       "         11489, 12645, 12645, 12400, 12099, 11733, 12645, 12151, 11488,\n",
       "          8309, 11661, 10545, 12382, 10655, 11565, 12705, 12154, 12645,\n",
       "         10455, 11667, 12029, 10467, 12409, 10419, 12105, 12110, 12462,\n",
       "          7943, 12705, 10785, 10413, 10461,  9943, 12787, 11369, 11730,\n",
       "         12705, 12465, 12620, 11532, 11362,  9943, 11673, 12705, 11417,\n",
       "         11685, 12099, 12673, 12705, 11571, 10063, 12665, 11745, 12767,\n",
       "         12488, 10347, 12110, 12518, 11852, 11553,  7949, 10649, 12407,\n",
       "         11086, 11364, 12661, 12530, 12165, 11852, 11655, 10299,  9945,\n",
       "         10661, 12328, 12235, 12233,  8428, 12494,  1693,  4683,  8188,\n",
       "         10407,  8173, 10432, 12767,  7942, 12116,  7939,  8848, 12798,\n",
       "          7300]])>}"
      ]
     },
     "execution_count": 24,
     "metadata": {},
     "output_type": "execute_result"
    }
   ],
   "source": [
    "detections"
   ]
  }
 ],
 "metadata": {
  "kernelspec": {
   "display_name": "Python 3 (ipykernel)",
   "language": "python",
   "name": "python3"
  },
  "language_info": {
   "codemirror_mode": {
    "name": "ipython",
    "version": 3
   },
   "file_extension": ".py",
   "mimetype": "text/x-python",
   "name": "python",
   "nbconvert_exporter": "python",
   "pygments_lexer": "ipython3",
   "version": "3.9.12"
  }
 },
 "nbformat": 4,
 "nbformat_minor": 4
}
